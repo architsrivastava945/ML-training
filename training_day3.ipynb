{
 "cells": [
  {
   "cell_type": "markdown",
   "id": "58001a92",
   "metadata": {},
   "source": [
    "## numpy"
   ]
  },
  {
   "cell_type": "code",
   "execution_count": 1,
   "id": "fe309682",
   "metadata": {},
   "outputs": [
    {
     "name": "stdout",
     "output_type": "stream",
     "text": [
      "Defaulting to user installation because normal site-packages is not writeable\n",
      "Requirement already satisfied: numpy in c:\\users\\acer\\appdata\\roaming\\python\\python313\\site-packages (2.3.1)\n",
      "Note: you may need to restart the kernel to use updated packages.\n"
     ]
    }
   ],
   "source": [
    "pip install numpy\n"
   ]
  },
  {
   "cell_type": "code",
   "execution_count": 2,
   "id": "5a64b541",
   "metadata": {},
   "outputs": [],
   "source": [
    "import numpy as np "
   ]
  },
  {
   "cell_type": "code",
   "execution_count": 3,
   "id": "f96e58cb",
   "metadata": {},
   "outputs": [
    {
     "name": "stdout",
     "output_type": "stream",
     "text": [
      "[1 2 3 4 5]\n"
     ]
    }
   ],
   "source": [
    "# 1D array\n",
    "ar = np.array([1, 2, 3, 4, 5])\n",
    "print(ar)"
   ]
  },
  {
   "cell_type": "code",
   "execution_count": 4,
   "id": "886dc1da",
   "metadata": {},
   "outputs": [
    {
     "name": "stdout",
     "output_type": "stream",
     "text": [
      "<class 'numpy.ndarray'>\n"
     ]
    }
   ],
   "source": [
    "print(type(ar))"
   ]
  },
  {
   "cell_type": "code",
   "execution_count": 5,
   "id": "68291e19",
   "metadata": {},
   "outputs": [
    {
     "name": "stdout",
     "output_type": "stream",
     "text": [
      "[[1 2 3 4]\n",
      " [5 6 7 8]]\n"
     ]
    }
   ],
   "source": [
    "# 2D array\n",
    "ar2 = np.array([[1, 2, 3, 4], [5, 6, 7, 8]])\n",
    "print(ar2)"
   ]
  },
  {
   "cell_type": "code",
   "execution_count": 6,
   "id": "b1b2d72b",
   "metadata": {},
   "outputs": [
    {
     "name": "stdout",
     "output_type": "stream",
     "text": [
      "[[[ 1  2  3  4]\n",
      "  [ 5  6  7  8]]\n",
      "\n",
      " [[ 9 10 11 12]\n",
      "  [13 14 15 16]]]\n"
     ]
    }
   ],
   "source": [
    "# 3D array\n",
    "ar3 = np.array([[[1, 2, 3, 4], [5, 6, 7, 8]], [[9, 10, 11, 12], [13, 14, 15, 16]]])\n",
    "print(ar3)"
   ]
  },
  {
   "cell_type": "code",
   "execution_count": 7,
   "id": "9ea33630",
   "metadata": {},
   "outputs": [
    {
     "name": "stdout",
     "output_type": "stream",
     "text": [
      "[[[[[1 2 3 4 5]]]]]\n"
     ]
    }
   ],
   "source": [
    "# N-dimentional array\n",
    "ar4 = np.array([1, 2, 3, 4, 5], ndmin=5) # ndmin specifies the minimum number of dimensions\n",
    "print(ar4)"
   ]
  },
  {
   "cell_type": "code",
   "execution_count": 8,
   "id": "c6da130a",
   "metadata": {},
   "outputs": [
    {
     "name": "stdout",
     "output_type": "stream",
     "text": [
      "[ 6  8 10 12]\n",
      "[-4 -4 -4 -4]\n",
      "[ 5 12 21 32]\n",
      "[5.         3.         2.33333333 2.        ]\n"
     ]
    }
   ],
   "source": [
    "# Element wise operations\n",
    "'''\n",
    "+ - Add elements to arrays element-wise\n",
    "- - Subtract elements from arrays element-wise\n",
    "* - Multiply elements of arrays element-wise\n",
    "/ - Divide elements of arrays element-wise\n",
    "\n",
    "Note - number of elements in both arrays should be same for element-wise operations\n",
    "'''\n",
    "\n",
    "a = np.array([1, 2, 3, 4])\n",
    "b = np.array([5, 6, 7, 8])\n",
    "\n",
    "print(a + b)  # Addition\n",
    "print(a - b)  # Subtraction \n",
    "print(a * b)  # Multiplication\n",
    "print(b / a)  # Division"
   ]
  },
  {
   "cell_type": "code",
   "execution_count": 9,
   "id": "9b42d472",
   "metadata": {},
   "outputs": [
    {
     "data": {
      "text/plain": [
       "'\\n1. np.zeros----> creates an array filled with zeros\\n2. np.ones-----> creates an array filled with ones\\n3. np.full ----> creates an array filled with a specified value\\n4. np.eye  ----> creates an identity matrix\\n5. np.arange --> creates an array with a range of values\\n6. np.random.rand --> creates an array with random float values\\n7. np.random.randint --> creates an array with random integer values\\n8. np.empty --> creates an empty array with a specified shape\\n9. np.copy --> creates a copy of an array\\n10. np.fromfunction --> creates an array by executing a function over each coordinate\\n11. np.fromiter --> creates an array from an iterable object\\n'"
      ]
     },
     "execution_count": 9,
     "metadata": {},
     "output_type": "execute_result"
    }
   ],
   "source": [
    "# array creation methods\n",
    "'''\n",
    "1. np.zeros----> creates an array filled with zeros\n",
    "2. np.ones-----> creates an array filled with ones\n",
    "3. np.full ----> creates an array filled with a specified value\n",
    "4. np.eye  ----> creates an identity matrix\n",
    "5. np.arange --> creates an array with a range of values\n",
    "6. np.random.rand --> creates an array with random float values\n",
    "7. np.random.randint --> creates an array with random integer values\n",
    "8. np.empty --> creates an empty array with a specified shape\n",
    "9. np.copy --> creates a copy of an array\n",
    "10. np.fromfunction --> creates an array by executing a function over each coordinate\n",
    "11. np.fromiter --> creates an array from an iterable object\n",
    "''' "
   ]
  },
  {
   "cell_type": "code",
   "execution_count": 10,
   "id": "aeea6faa",
   "metadata": {},
   "outputs": [
    {
     "data": {
      "text/plain": [
       "array([[0., 0., 0.],\n",
       "       [0., 0., 0.]])"
      ]
     },
     "execution_count": 10,
     "metadata": {},
     "output_type": "execute_result"
    }
   ],
   "source": [
    "np.zeros((2, 3))  # 2 rows and 3 columns filled with zeros"
   ]
  },
  {
   "cell_type": "code",
   "execution_count": 11,
   "id": "f886de04",
   "metadata": {},
   "outputs": [
    {
     "data": {
      "text/plain": [
       "array([[1., 1., 1.],\n",
       "       [1., 1., 1.]])"
      ]
     },
     "execution_count": 11,
     "metadata": {},
     "output_type": "execute_result"
    }
   ],
   "source": [
    "np.ones((2, 3))  # 2 rows and 3 columns filled with ones"
   ]
  },
  {
   "cell_type": "code",
   "execution_count": 12,
   "id": "45e36e7c",
   "metadata": {},
   "outputs": [
    {
     "data": {
      "text/plain": [
       "array([[7, 7, 7],\n",
       "       [7, 7, 7]])"
      ]
     },
     "execution_count": 12,
     "metadata": {},
     "output_type": "execute_result"
    }
   ],
   "source": [
    "np.full((2, 3), 7)  # 2 rows and 3 columns filled with sevens"
   ]
  },
  {
   "cell_type": "code",
   "execution_count": 13,
   "id": "732f1a76",
   "metadata": {},
   "outputs": [
    {
     "data": {
      "text/plain": [
       "array([[1., 0., 0.],\n",
       "       [0., 1., 0.],\n",
       "       [0., 0., 1.]])"
      ]
     },
     "execution_count": 13,
     "metadata": {},
     "output_type": "execute_result"
    }
   ],
   "source": [
    "np.eye(3)  # 3x3 identity matrix"
   ]
  },
  {
   "cell_type": "code",
   "execution_count": 14,
   "id": "47ee2002",
   "metadata": {},
   "outputs": [
    {
     "data": {
      "text/plain": [
       "array([0, 2, 4, 6, 8])"
      ]
     },
     "execution_count": 14,
     "metadata": {},
     "output_type": "execute_result"
    }
   ],
   "source": [
    "np.arange(0, 10, 2)  # Array with values from 0 to 10 with a step of 2"
   ]
  },
  {
   "cell_type": "code",
   "execution_count": 15,
   "id": "40afa34e",
   "metadata": {},
   "outputs": [
    {
     "data": {
      "text/plain": [
       "array([[0.87174983, 0.76347287, 0.70637802],\n",
       "       [0.62777407, 0.49151888, 0.6422102 ]])"
      ]
     },
     "execution_count": 15,
     "metadata": {},
     "output_type": "execute_result"
    }
   ],
   "source": [
    "np.random.rand(2, 3)  # 2 rows and 3 columns filled with random float values"
   ]
  },
  {
   "cell_type": "code",
   "execution_count": 16,
   "id": "fd636570",
   "metadata": {},
   "outputs": [
    {
     "data": {
      "text/plain": [
       "3"
      ]
     },
     "execution_count": 16,
     "metadata": {},
     "output_type": "execute_result"
    }
   ],
   "source": [
    "np.random.randint(0, 10)\n"
   ]
  },
  {
   "cell_type": "code",
   "execution_count": 17,
   "id": "89572c5d",
   "metadata": {},
   "outputs": [
    {
     "data": {
      "text/plain": [
       "array([[2, 5, 8],\n",
       "       [0, 9, 9]], dtype=int32)"
      ]
     },
     "execution_count": 17,
     "metadata": {},
     "output_type": "execute_result"
    }
   ],
   "source": [
    "np.random.randint(0, 10, (2, 3))  # 2 rows and 3 columns filled with random integers between 0 and 10"
   ]
  },
  {
   "cell_type": "code",
   "execution_count": 18,
   "id": "13fe0336",
   "metadata": {},
   "outputs": [
    {
     "data": {
      "text/plain": [
       "array([[0.87174983, 0.76347287, 0.70637802],\n",
       "       [0.62777407, 0.49151888, 0.6422102 ]])"
      ]
     },
     "execution_count": 18,
     "metadata": {},
     "output_type": "execute_result"
    }
   ],
   "source": [
    "np.empty((2, 3))  # Creates an empty array with shape 2x3"
   ]
  },
  {
   "cell_type": "code",
   "execution_count": 19,
   "id": "388619e0",
   "metadata": {},
   "outputs": [
    {
     "data": {
      "text/plain": [
       "array(['H', 'e', 'l', 'l', 'o', ' ', 'W', 'o', 'r', 'l', 'd'], dtype='<U1')"
      ]
     },
     "execution_count": 19,
     "metadata": {},
     "output_type": "execute_result"
    }
   ],
   "source": [
    "s = \"Hello World\"\n",
    "np.fromiter(s, dtype='<U1')  # Creates an array from the string, each character is an element"
   ]
  },
  {
   "cell_type": "code",
   "execution_count": 20,
   "id": "7e4ce63f",
   "metadata": {},
   "outputs": [
    {
     "data": {
      "text/plain": [
       "'\\n1. np.max --> returns the maximum value in an array\\n2. np.min --> returns the minimum value in an array\\n3. np.sum --> returns the sum of all elements in an array\\n4. np.mean --> returns the mean (average) of all elements in an array\\n5. np.median --> returns the median of all elements in an array\\n6. np.std --> returns the standard deviation of all elements in an array\\n7. np.dot --> returns the dot product of two arrays\\n8. np.cross --> returns the cross product of two arrays\\n9. np.argmin --> returns the index of the minimum value in an array\\n10. np.argmax --> returns the index of the maximum value in an array\\n11. np.exp --> returns the exponential of all elements in an array\\n12. np.sqrt --> returns the square root of all elements in an array\\n13. np.var --> returns the variance of all elements in an array\\n14. np.log --> returns the natural logarithm of all elements in an array\\n'"
      ]
     },
     "execution_count": 20,
     "metadata": {},
     "output_type": "execute_result"
    }
   ],
   "source": [
    "# Mathematical and Statistical functions\n",
    "'''\n",
    "1. np.max --> returns the maximum value in an array\n",
    "2. np.min --> returns the minimum value in an array\n",
    "3. np.sum --> returns the sum of all elements in an array\n",
    "4. np.mean --> returns the mean (average) of all elements in an array\n",
    "5. np.median --> returns the median of all elements in an array\n",
    "6. np.std --> returns the standard deviation of all elements in an array\n",
    "7. np.dot --> returns the dot product of two arrays\n",
    "8. np.cross --> returns the cross product of two arrays\n",
    "9. np.argmin --> returns the index of the minimum value in an array\n",
    "10. np.argmax --> returns the index of the maximum value in an array\n",
    "11. np.exp --> returns the exponential of all elements in an array\n",
    "12. np.sqrt --> returns the square root of all elements in an array\n",
    "13. np.var --> returns the variance of all elements in an array\n",
    "14. np.log --> returns the natural logarithm of all elements in an array\n",
    "''' "
   ]
  },
  {
   "cell_type": "code",
   "execution_count": 21,
   "id": "186d96ee",
   "metadata": {},
   "outputs": [],
   "source": [
    "arr = np.array([1, 2, 3, 4, 5, 6, 7, 8, 9, 10, 11, 12])"
   ]
  },
  {
   "cell_type": "code",
   "execution_count": 22,
   "id": "f68164f7",
   "metadata": {},
   "outputs": [
    {
     "data": {
      "text/plain": [
       "np.int64(12)"
      ]
     },
     "execution_count": 22,
     "metadata": {},
     "output_type": "execute_result"
    }
   ],
   "source": [
    "np.max(arr)  # Maximum value in the array"
   ]
  },
  {
   "cell_type": "code",
   "execution_count": 23,
   "id": "db200642",
   "metadata": {},
   "outputs": [
    {
     "data": {
      "text/plain": [
       "np.int64(1)"
      ]
     },
     "execution_count": 23,
     "metadata": {},
     "output_type": "execute_result"
    }
   ],
   "source": [
    "np.min(arr)  # Minimum value in the array"
   ]
  },
  {
   "cell_type": "code",
   "execution_count": 24,
   "id": "fdc0c3f3",
   "metadata": {},
   "outputs": [
    {
     "data": {
      "text/plain": [
       "np.int64(78)"
      ]
     },
     "execution_count": 24,
     "metadata": {},
     "output_type": "execute_result"
    }
   ],
   "source": [
    "np.sum(arr)  # Sum of all elements in the array"
   ]
  },
  {
   "cell_type": "code",
   "execution_count": 25,
   "id": "f04728fa",
   "metadata": {},
   "outputs": [
    {
     "data": {
      "text/plain": [
       "np.float64(6.5)"
      ]
     },
     "execution_count": 25,
     "metadata": {},
     "output_type": "execute_result"
    }
   ],
   "source": [
    "np.mean(arr)  # Mean of the array"
   ]
  },
  {
   "cell_type": "code",
   "execution_count": 26,
   "id": "30e26962",
   "metadata": {},
   "outputs": [
    {
     "data": {
      "text/plain": [
       "np.float64(6.5)"
      ]
     },
     "execution_count": 26,
     "metadata": {},
     "output_type": "execute_result"
    }
   ],
   "source": [
    "np.median(arr)  # Median of the array"
   ]
  },
  {
   "cell_type": "code",
   "execution_count": 27,
   "id": "e6b6590a",
   "metadata": {},
   "outputs": [
    {
     "data": {
      "text/plain": [
       "np.float64(3.452052529534663)"
      ]
     },
     "execution_count": 27,
     "metadata": {},
     "output_type": "execute_result"
    }
   ],
   "source": [
    "np.std(arr)  # Standard deviation of the array"
   ]
  },
  {
   "cell_type": "code",
   "execution_count": 28,
   "id": "6fb3ab73",
   "metadata": {},
   "outputs": [
    {
     "data": {
      "text/plain": [
       "np.float64(11.916666666666666)"
      ]
     },
     "execution_count": 28,
     "metadata": {},
     "output_type": "execute_result"
    }
   ],
   "source": [
    "np.var(arr)  # Variance of the array"
   ]
  },
  {
   "cell_type": "code",
   "execution_count": 29,
   "id": "e9965cfa",
   "metadata": {},
   "outputs": [
    {
     "data": {
      "text/plain": [
       "np.int64(1196)"
      ]
     },
     "execution_count": 29,
     "metadata": {},
     "output_type": "execute_result"
    }
   ],
   "source": [
    "arr2 = np.array([8, 9, 10, 11, 12, 13, 14, 15, 16, 17, 18, 19])\n",
    "np.dot(arr, arr2)  # Dot product of two arrays"
   ]
  },
  {
   "cell_type": "code",
   "execution_count": 30,
   "id": "6d74eed1",
   "metadata": {},
   "outputs": [
    {
     "name": "stdout",
     "output_type": "stream",
     "text": [
      "(12, 1) (1, 12)\n"
     ]
    },
    {
     "ename": "ValueError",
     "evalue": "incompatible dimensions for cross product\n(dimension must be 2 or 3)",
     "output_type": "error",
     "traceback": [
      "\u001b[31m---------------------------------------------------------------------------\u001b[39m",
      "\u001b[31mValueError\u001b[39m                                Traceback (most recent call last)",
      "\u001b[36mCell\u001b[39m\u001b[36m \u001b[39m\u001b[32mIn[30]\u001b[39m\u001b[32m, line 4\u001b[39m\n\u001b[32m      2\u001b[39m arr4 = np.random.randint(\u001b[32m0\u001b[39m, \u001b[32m10\u001b[39m, (\u001b[32m1\u001b[39m, \u001b[32m12\u001b[39m))  \u001b[38;5;66;03m# Another random 1X12 array\u001b[39;00m\n\u001b[32m      3\u001b[39m \u001b[38;5;28mprint\u001b[39m(arr3.shape, arr4.shape)  \u001b[38;5;66;03m# Print shapes of the arrays\u001b[39;00m\n\u001b[32m----> \u001b[39m\u001b[32m4\u001b[39m \u001b[43mnp\u001b[49m\u001b[43m.\u001b[49m\u001b[43mcross\u001b[49m\u001b[43m(\u001b[49m\u001b[43marr4\u001b[49m\u001b[43m,\u001b[49m\u001b[43m \u001b[49m\u001b[43marr3\u001b[49m\u001b[43m)\u001b[49m  \u001b[38;5;66;03m# Cross product of two arrays\u001b[39;00m\n",
      "\u001b[36mFile \u001b[39m\u001b[32m~\\AppData\\Roaming\\Python\\Python313\\site-packages\\numpy\\_core\\numeric.py:1695\u001b[39m, in \u001b[36mcross\u001b[39m\u001b[34m(a, b, axisa, axisb, axisc, axis)\u001b[39m\n\u001b[32m   1692\u001b[39m msg = (\u001b[33m\"\u001b[39m\u001b[33mincompatible dimensions for cross product\u001b[39m\u001b[38;5;130;01m\\n\u001b[39;00m\u001b[33m\"\u001b[39m\n\u001b[32m   1693\u001b[39m        \u001b[33m\"\u001b[39m\u001b[33m(dimension must be 2 or 3)\u001b[39m\u001b[33m\"\u001b[39m)\n\u001b[32m   1694\u001b[39m \u001b[38;5;28;01mif\u001b[39;00m a.shape[-\u001b[32m1\u001b[39m] \u001b[38;5;129;01mnot\u001b[39;00m \u001b[38;5;129;01min\u001b[39;00m (\u001b[32m2\u001b[39m, \u001b[32m3\u001b[39m) \u001b[38;5;129;01mor\u001b[39;00m b.shape[-\u001b[32m1\u001b[39m] \u001b[38;5;129;01mnot\u001b[39;00m \u001b[38;5;129;01min\u001b[39;00m (\u001b[32m2\u001b[39m, \u001b[32m3\u001b[39m):\n\u001b[32m-> \u001b[39m\u001b[32m1695\u001b[39m     \u001b[38;5;28;01mraise\u001b[39;00m \u001b[38;5;167;01mValueError\u001b[39;00m(msg)\n\u001b[32m   1696\u001b[39m \u001b[38;5;28;01mif\u001b[39;00m a.shape[-\u001b[32m1\u001b[39m] == \u001b[32m2\u001b[39m \u001b[38;5;129;01mor\u001b[39;00m b.shape[-\u001b[32m1\u001b[39m] == \u001b[32m2\u001b[39m:\n\u001b[32m   1697\u001b[39m     \u001b[38;5;66;03m# Deprecated in NumPy 2.0, 2023-09-26\u001b[39;00m\n\u001b[32m   1698\u001b[39m     warnings.warn(\n\u001b[32m   1699\u001b[39m         \u001b[33m\"\u001b[39m\u001b[33mArrays of 2-dimensional vectors are deprecated. Use arrays of \u001b[39m\u001b[33m\"\u001b[39m\n\u001b[32m   1700\u001b[39m         \u001b[33m\"\u001b[39m\u001b[33m3-dimensional vectors instead. (deprecated in NumPy 2.0)\u001b[39m\u001b[33m\"\u001b[39m,\n\u001b[32m   1701\u001b[39m         \u001b[38;5;167;01mDeprecationWarning\u001b[39;00m, stacklevel=\u001b[32m2\u001b[39m\n\u001b[32m   1702\u001b[39m     )\n",
      "\u001b[31mValueError\u001b[39m: incompatible dimensions for cross product\n(dimension must be 2 or 3)"
     ]
    }
   ],
   "source": [
    "arr3 = np.random.randint(0, 10, (12, 1))  # Random 12X1 array\n",
    "arr4 = np.random.randint(0, 10, (1, 12))  # Another random 1X12 array\n",
    "print(arr3.shape, arr4.shape)  # Print shapes of the arrays\n",
    "np.cross(arr4, arr3)  # Cross product of two arrays"
   ]
  },
  {
   "cell_type": "code",
   "execution_count": null,
   "id": "d27d2819",
   "metadata": {},
   "outputs": [
    {
     "data": {
      "text/plain": [
       "np.int64(0)"
      ]
     },
     "execution_count": 32,
     "metadata": {},
     "output_type": "execute_result"
    }
   ],
   "source": [
    "np.argmin(arr)  # Index of the minimum value in the array"
   ]
  },
  {
   "cell_type": "code",
   "execution_count": null,
   "id": "05133710",
   "metadata": {},
   "outputs": [
    {
     "data": {
      "text/plain": [
       "np.int64(11)"
      ]
     },
     "execution_count": 33,
     "metadata": {},
     "output_type": "execute_result"
    }
   ],
   "source": [
    "np.argmax(arr)  # Index of the maximum value in the array"
   ]
  },
  {
   "cell_type": "code",
   "execution_count": null,
   "id": "1c6f0d2c",
   "metadata": {},
   "outputs": [
    {
     "data": {
      "text/plain": [
       "array([2.71828183e+00, 7.38905610e+00, 2.00855369e+01, 5.45981500e+01,\n",
       "       1.48413159e+02, 4.03428793e+02, 1.09663316e+03, 2.98095799e+03,\n",
       "       8.10308393e+03, 2.20264658e+04, 5.98741417e+04, 1.62754791e+05])"
      ]
     },
     "execution_count": 34,
     "metadata": {},
     "output_type": "execute_result"
    }
   ],
   "source": [
    "np.exp(arr)  # Exponential of all elements in the array"
   ]
  },
  {
   "cell_type": "code",
   "execution_count": null,
   "id": "1bc41b83",
   "metadata": {},
   "outputs": [
    {
     "data": {
      "text/plain": [
       "array([1.        , 1.41421356, 1.73205081, 2.        , 2.23606798,\n",
       "       2.44948974, 2.64575131, 2.82842712, 3.        , 3.16227766,\n",
       "       3.31662479, 3.46410162])"
      ]
     },
     "execution_count": 35,
     "metadata": {},
     "output_type": "execute_result"
    }
   ],
   "source": [
    "np.sqrt(arr)  # Square root of all elements in the array"
   ]
  },
  {
   "cell_type": "code",
   "execution_count": null,
   "id": "3c43cf8f",
   "metadata": {},
   "outputs": [
    {
     "data": {
      "text/plain": [
       "np.float64(11.916666666666666)"
      ]
     },
     "execution_count": 36,
     "metadata": {},
     "output_type": "execute_result"
    }
   ],
   "source": [
    "np.var(arr)  # Variance of the array"
   ]
  },
  {
   "cell_type": "code",
   "execution_count": null,
   "id": "ea09c907",
   "metadata": {},
   "outputs": [
    {
     "data": {
      "text/plain": [
       "array([0.        , 0.69314718, 1.09861229, 1.38629436, 1.60943791,\n",
       "       1.79175947, 1.94591015, 2.07944154, 2.19722458, 2.30258509,\n",
       "       2.39789527, 2.48490665])"
      ]
     },
     "execution_count": 37,
     "metadata": {},
     "output_type": "execute_result"
    }
   ],
   "source": [
    "np.log(arr)  # Natural logarithm of all elements in the array"
   ]
  },
  {
   "cell_type": "code",
   "execution_count": null,
   "id": "4062a778",
   "metadata": {},
   "outputs": [
    {
     "data": {
      "text/plain": [
       "'\\n1. np.vstack --> stacks arrays vertically (row-wise) - concatenates arrays along the first axis\\n2. np.hstack --> stacks arrays horizontally (column-wise) - concatenates arrays along the second axis\\n3. np.concatenate --> concatenates arrays along a specified axis\\n4. np.split --> splits an array into multiple sub-arrays\\n5. reshape --> changes the shape of an array without changing its data\\n'"
      ]
     },
     "execution_count": 38,
     "metadata": {},
     "output_type": "execute_result"
    }
   ],
   "source": [
    "# stackning and splitting\n",
    "'''\n",
    "1. np.vstack --> stacks arrays vertically (row-wise) - concatenates arrays along the first axis\n",
    "2. np.hstack --> stacks arrays horizontally (column-wise) - concatenates arrays along the second axis\n",
    "3. np.concatenate --> concatenates arrays along a specified axis\n",
    "4. np.split --> splits an array into multiple sub-arrays\n",
    "5. reshape --> changes the shape of an array without changing its data\n",
    "'''"
   ]
  },
  {
   "cell_type": "code",
   "execution_count": null,
   "id": "29434f6e",
   "metadata": {},
   "outputs": [],
   "source": [
    "c = np.array([[1, 2, 3], [4, 5, 6]])\n",
    "d = np.array([[7, 8, 9], [10, 11, 12]])"
   ]
  },
  {
   "cell_type": "code",
   "execution_count": null,
   "id": "d99c4536",
   "metadata": {},
   "outputs": [
    {
     "data": {
      "text/plain": [
       "array([[ 1,  2,  3],\n",
       "       [ 4,  5,  6],\n",
       "       [ 7,  8,  9],\n",
       "       [10, 11, 12]])"
      ]
     },
     "execution_count": 40,
     "metadata": {},
     "output_type": "execute_result"
    }
   ],
   "source": [
    "np.vstack((c, d))  # Stacks arrays vertically"
   ]
  },
  {
   "cell_type": "code",
   "execution_count": null,
   "id": "815aa147",
   "metadata": {},
   "outputs": [
    {
     "data": {
      "text/plain": [
       "array([[ 1,  2,  3,  7,  8,  9],\n",
       "       [ 4,  5,  6, 10, 11, 12]])"
      ]
     },
     "execution_count": 41,
     "metadata": {},
     "output_type": "execute_result"
    }
   ],
   "source": [
    "np.hstack((c, d))  # Stacks arrays horizontally"
   ]
  },
  {
   "cell_type": "code",
   "execution_count": null,
   "id": "05dc4bb1",
   "metadata": {},
   "outputs": [
    {
     "data": {
      "text/plain": [
       "array([ 1,  2,  3,  4,  5,  6,  7,  8,  9, 10, 11, 12])"
      ]
     },
     "execution_count": 42,
     "metadata": {},
     "output_type": "execute_result"
    }
   ],
   "source": [
    "arr"
   ]
  },
  {
   "cell_type": "code",
   "execution_count": null,
   "id": "25c6c3d8",
   "metadata": {},
   "outputs": [
    {
     "data": {
      "text/plain": [
       "array([ 8,  9, 10, 11, 12, 13, 14, 15, 16, 17, 18, 19])"
      ]
     },
     "execution_count": 43,
     "metadata": {},
     "output_type": "execute_result"
    }
   ],
   "source": [
    "arr2"
   ]
  },
  {
   "cell_type": "code",
   "execution_count": null,
   "id": "ba622dbb",
   "metadata": {},
   "outputs": [
    {
     "data": {
      "text/plain": [
       "array([ 1,  2,  3,  4,  5,  6,  7,  8,  9, 10, 11, 12,  8,  9, 10, 11, 12,\n",
       "       13, 14, 15, 16, 17, 18, 19])"
      ]
     },
     "execution_count": 44,
     "metadata": {},
     "output_type": "execute_result"
    }
   ],
   "source": [
    "np.concatenate((arr, arr2))"
   ]
  },
  {
   "cell_type": "code",
   "execution_count": null,
   "id": "d575ab4d",
   "metadata": {},
   "outputs": [
    {
     "data": {
      "text/plain": [
       "array([[ 1,  2,  3],\n",
       "       [ 4,  5,  6],\n",
       "       [ 7,  8,  9],\n",
       "       [10, 11, 12]])"
      ]
     },
     "execution_count": 45,
     "metadata": {},
     "output_type": "execute_result"
    }
   ],
   "source": [
    "np.concatenate((c, d), axis=0)  # Concatenates arrays along the first axis (vertical)"
   ]
  },
  {
   "cell_type": "code",
   "execution_count": null,
   "id": "7d7d369c",
   "metadata": {},
   "outputs": [
    {
     "data": {
      "text/plain": [
       "array([[ 1,  2,  3,  7,  8,  9],\n",
       "       [ 4,  5,  6, 10, 11, 12]])"
      ]
     },
     "execution_count": 46,
     "metadata": {},
     "output_type": "execute_result"
    }
   ],
   "source": [
    "np.concatenate((c, d), axis=1)  # Concatenates arrays along the second axis (horizontal)"
   ]
  },
  {
   "cell_type": "code",
   "execution_count": null,
   "id": "5655fce2",
   "metadata": {},
   "outputs": [
    {
     "data": {
      "text/plain": [
       "[array([1, 2, 3, 4]), array([5, 6, 7, 8]), array([ 9, 10, 11, 12])]"
      ]
     },
     "execution_count": 47,
     "metadata": {},
     "output_type": "execute_result"
    }
   ],
   "source": [
    "np.split(arr, 3)  # Splits the array into 3 sub-arrays"
   ]
  },
  {
   "cell_type": "code",
   "execution_count": null,
   "id": "79971f75",
   "metadata": {},
   "outputs": [
    {
     "data": {
      "text/plain": [
       "array([[ 1,  2,  3,  4],\n",
       "       [ 5,  6,  7,  8],\n",
       "       [ 9, 10, 11, 12]])"
      ]
     },
     "execution_count": 48,
     "metadata": {},
     "output_type": "execute_result"
    }
   ],
   "source": [
    "np.reshape(arr, (3, 4))  # Reshapes the array to 3 rows and 4 columns"
   ]
  },
  {
   "cell_type": "code",
   "execution_count": null,
   "id": "d06b9127",
   "metadata": {},
   "outputs": [
    {
     "name": "stdout",
     "output_type": "stream",
     "text": [
      "[ 1  2  0  4  5  6  7  8  9 10 11 12]\n",
      "[ 1  2  3  4  5  6  7  8  9 10 11 12]\n",
      "[ 1  2  0  4  5  6  7  8  9 10 11 12]\n"
     ]
    }
   ],
   "source": [
    "# copy and view\n",
    "'''\n",
    "# copy - creates a new array with the same data and keeps the original array unchanged\n",
    "# view - creates a new array that shares the same data as the original array, changes in the new array will affect the original array\n",
    "'''\n",
    "x = arr.copy()  # Creates a copy of the array\n",
    "y = arr.view()  # Creates a view of the array\n",
    " \n",
    "arr[2] = 0\n",
    "\n",
    "print(arr)  # Original array  \n",
    "print(x)  # Original array remains unchanged\n",
    "print(y)  # View of the array reflects the change in the original array"
   ]
  },
  {
   "cell_type": "code",
   "execution_count": null,
   "id": "26d0e5d6",
   "metadata": {},
   "outputs": [
    {
     "data": {
      "text/plain": [
       "'\\n# Indexing - accessing individual elements of an array\\n# Slicing - accessing a range of elements in an array\\n'"
      ]
     },
     "execution_count": 50,
     "metadata": {},
     "output_type": "execute_result"
    }
   ],
   "source": [
    "# indexing and slicing\n",
    "'''\n",
    "# Indexing - accessing individual elements of an array\n",
    "# Slicing - accessing a range of elements in an array\n",
    "'''"
   ]
  },
  {
   "cell_type": "code",
   "execution_count": null,
   "id": "a877738b",
   "metadata": {},
   "outputs": [
    {
     "name": "stdout",
     "output_type": "stream",
     "text": [
      "6\n"
     ]
    }
   ],
   "source": [
    "print(arr[5])  # Accessing the element at index 5"
   ]
  },
  {
   "cell_type": "code",
   "execution_count": null,
   "id": "4a4195b7",
   "metadata": {},
   "outputs": [
    {
     "name": "stdout",
     "output_type": "stream",
     "text": [
      "8\n"
     ]
    }
   ],
   "source": [
    "print(arr[7])"
   ]
  },
  {
   "cell_type": "code",
   "execution_count": null,
   "id": "3cc10109",
   "metadata": {},
   "outputs": [
    {
     "name": "stdout",
     "output_type": "stream",
     "text": [
      "[2 0 4 5]\n"
     ]
    }
   ],
   "source": [
    "print(arr[1:5])  # Slicing the array from index 1 to 5 (exclusive)"
   ]
  },
  {
   "cell_type": "code",
   "execution_count": null,
   "id": "56242f81",
   "metadata": {},
   "outputs": [
    {
     "name": "stdout",
     "output_type": "stream",
     "text": [
      "[4 5 6]\n"
     ]
    }
   ],
   "source": [
    "arr7 = np.array([[1, 2, 3], [4, 5, 6], [7, 8, 9]])\n",
    "print(arr7[1,::])  # Accessing all elements in the second row"
   ]
  },
  {
   "cell_type": "markdown",
   "id": "ebc5d50a",
   "metadata": {},
   "source": [
    "## Homework "
   ]
  },
  {
   "cell_type": "code",
   "execution_count": null,
   "id": "503bcb81",
   "metadata": {},
   "outputs": [
    {
     "name": "stdout",
     "output_type": "stream",
     "text": [
      "[[1. 0. 0.]\n",
      " [0. 1. 0.]\n",
      " [0. 0. 1.]]\n"
     ]
    }
   ],
   "source": [
    "# Create a 3X3 identity matrix\n",
    "iden_mat = np.eye(3)  # Creating a 3x3 identity matrix\n",
    "print(iden_mat)"
   ]
  },
  {
   "cell_type": "code",
   "execution_count": null,
   "id": "64569390",
   "metadata": {},
   "outputs": [
    {
     "name": "stdout",
     "output_type": "stream",
     "text": [
      "[[7 7 7 7 7]\n",
      " [7 7 7 7 7]\n",
      " [7 7 7 7 7]\n",
      " [7 7 7 7 7]\n",
      " [7 7 7 7 7]]\n"
     ]
    }
   ],
   "source": [
    "# Create a 5X5 matrix filled with the number 7\n",
    "fil_mat = np.full((5, 5), 7)  # Creating a 5x5 matrix filled with the number 7\n",
    "print(fil_mat)"
   ]
  },
  {
   "cell_type": "code",
   "execution_count": null,
   "id": "ccbcc2cd",
   "metadata": {},
   "outputs": [
    {
     "name": "stdout",
     "output_type": "stream",
     "text": [
      "[67 45 26 95 82  7 80 99 30 54]\n"
     ]
    }
   ],
   "source": [
    "# Generate a 1D array of 10 random integers between 1 and 100\n",
    "rand_int = np.random.randint(1, 101, 10)  # Generating 10 random integers between 1 and 100\n",
    "print(rand_int)"
   ]
  },
  {
   "cell_type": "code",
   "execution_count": null,
   "id": "fe658077",
   "metadata": {},
   "outputs": [
    {
     "name": "stdout",
     "output_type": "stream",
     "text": [
      "[[ 1  2  3  4]\n",
      " [ 5  6  7  8]\n",
      " [ 9 10 11 12]]\n"
     ]
    }
   ],
   "source": [
    "# Reshap a 1D array of 12 elements into a 3X4 matrix\n",
    "arr12 = np.arange(1, 13)  # Creating a 1D array with 12 elements\n",
    "reshaped_arr = arr12.reshape(3, 4)  # Reshaping the array to 3 rows and 4 columns\n",
    "print(reshaped_arr)"
   ]
  },
  {
   "cell_type": "code",
   "execution_count": null,
   "id": "60fde3b5",
   "metadata": {},
   "outputs": [
    {
     "name": "stdout",
     "output_type": "stream",
     "text": [
      "Mean: 6.5\n",
      "Median: 6.5\n",
      "Standard Deviation: 3.452052529534663\n"
     ]
    }
   ],
   "source": [
    "# Get the mean, median, and standard deviation of an array\n",
    "print(\"Mean:\", np.mean(arr12))  # Mean of the array\n",
    "print(\"Median:\", np.median(arr12))  # Median of the array\n",
    "print(\"Standard Deviation:\", np.std(arr12))  # Standard deviation of the array"
   ]
  },
  {
   "cell_type": "code",
   "execution_count": null,
   "id": "547f711c",
   "metadata": {},
   "outputs": [
    {
     "ename": "NameError",
     "evalue": "name 'arr12' is not defined",
     "output_type": "error",
     "traceback": [
      "\u001b[31m---------------------------------------------------------------------------\u001b[39m",
      "\u001b[31mNameError\u001b[39m                                 Traceback (most recent call last)",
      "\u001b[36mCell\u001b[39m\u001b[36m \u001b[39m\u001b[32mIn[33]\u001b[39m\u001b[32m, line 3\u001b[39m\n\u001b[32m      1\u001b[39m \u001b[38;5;66;03m# Find all element greater than 5 in an array\u001b[39;00m\n\u001b[32m      2\u001b[39m \u001b[38;5;66;03m# greater_than_5 = arr12[arr12 > 5]  # Finding elements greater than 5\u001b[39;00m\n\u001b[32m----> \u001b[39m\u001b[32m3\u001b[39m greater_than_5 = \u001b[43marr12\u001b[49m.find(arr12 > \u001b[32m5\u001b[39m)  \u001b[38;5;66;03m# Finding elements greater than 5\u001b[39;00m\n\u001b[32m      4\u001b[39m \u001b[38;5;28mprint\u001b[39m(\u001b[33m\"\u001b[39m\u001b[33mElements greater than 5:\u001b[39m\u001b[33m\"\u001b[39m, greater_than_5)\n",
      "\u001b[31mNameError\u001b[39m: name 'arr12' is not defined"
     ]
    }
   ],
   "source": [
    "# Find all element greater than 5 in an array\n",
    "# greater_than_5 = arr12[arr12 > 5]  # Finding elements greater than 5\n",
    "greater_than_5 = arr12.find(arr12 > 5)  # Finding elements greater than 5\n",
    "print(\"Elements greater than 5:\", greater_than_5)"
   ]
  },
  {
   "cell_type": "code",
   "execution_count": null,
   "id": "b456bffa",
   "metadata": {},
   "outputs": [
    {
     "name": "stdout",
     "output_type": "stream",
     "text": [
      "Boolean array for even numbers: [False  True False  True False  True False  True False  True]\n"
     ]
    }
   ],
   "source": [
    "# Create a boolean array that identifies even numbers in a given array \n",
    "arr = np.array([1, 2, 3, 4, 5, 6, 7, 8, 9, 10])\n",
    "bool_var = arr % 2 == 0  # Identifying even numbers\n",
    "print(\"Boolean array for even numbers:\", bool_var)"
   ]
  },
  {
   "cell_type": "code",
   "execution_count": 31,
   "id": "13638eb1",
   "metadata": {},
   "outputs": [
    {
     "name": "stdout",
     "output_type": "stream",
     "text": [
      "Element-wise multiplication: [ 5 12 21 32]\n"
     ]
    }
   ],
   "source": [
    "# Create two arrays and perform element-wise multiplication\n",
    "arr1 = np.array([1, 2, 3, 4])\n",
    "arr2 = np.array([5, 6, 7, 8])\n",
    "print(\"Element-wise multiplication:\", arr1 * arr2)  # Element-wise multiplication"
   ]
  },
  {
   "cell_type": "code",
   "execution_count": 32,
   "id": "2d940931",
   "metadata": {},
   "outputs": [
    {
     "name": "stdout",
     "output_type": "stream",
     "text": [
      "Array with odd numbers replaced by -1: [-1  2 -1  4 -1  6 -1  8 -1 10]\n"
     ]
    }
   ],
   "source": [
    "# replace all odd numbers in an array with -1\n",
    "arr = np.array([1, 2, 3, 4, 5, 6, 7, 8, 9, 10])\n",
    "arr[arr % 2 != 0] = -1  # Replacing odd numbers with -1\n",
    "print(\"Array with odd numbers replaced by -1:\", arr)  # Print the modified array"
   ]
  },
  {
   "cell_type": "code",
   "execution_count": 34,
   "id": "9f408c24",
   "metadata": {},
   "outputs": [
    {
     "name": "stdout",
     "output_type": "stream",
     "text": [
      "[[1 2]\n",
      " [3 4]\n",
      " [5 6]\n",
      " [7 8]]\n",
      "[[1 2 5 6]\n",
      " [3 4 7 8]]\n"
     ]
    }
   ],
   "source": [
    "# stack two arrays vertically and horizontally\n",
    "arr1 = np.array([[1, 2], [3, 4]])\n",
    "arr2 = np.array([[5, 6], [7, 8]])\n",
    "print(np.vstack((arr1, arr2)))  # Stacking arrays vertically\n",
    "print(np.hstack((arr1, arr2)))  # Stacking arrays horizontally "
   ]
  }
 ],
 "metadata": {
  "kernelspec": {
   "display_name": "Python 3",
   "language": "python",
   "name": "python3"
  },
  "language_info": {
   "codemirror_mode": {
    "name": "ipython",
    "version": 3
   },
   "file_extension": ".py",
   "mimetype": "text/x-python",
   "name": "python",
   "nbconvert_exporter": "python",
   "pygments_lexer": "ipython3",
   "version": "3.13.5"
  }
 },
 "nbformat": 4,
 "nbformat_minor": 5
}
